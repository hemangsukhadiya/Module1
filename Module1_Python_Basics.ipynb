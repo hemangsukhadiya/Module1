{
  "nbformat": 4,
  "nbformat_minor": 0,
  "metadata": {
    "colab": {
      "provenance": []
    },
    "kernelspec": {
      "name": "python3",
      "display_name": "Python 3"
    },
    "language_info": {
      "name": "python"
    }
  },
  "cells": [
    {
      "cell_type": "markdown",
      "source": [
        "# **Python Basics Theoritical Questions**"
      ],
      "metadata": {
        "id": "8PHKwbOisAFk"
      }
    },
    {
      "cell_type": "markdown",
      "source": [
        "1. What is Python, and why is it popular?\n",
        "\n",
        "  - Python is a programming language that consist of various set of rules and symbols that is used as instruction to a computer.\n",
        "\n",
        "  - Python is so popular becuase it has wide range of application like in the field of data, for frontend-backend development, used to implement AI-ML models etc. Moreover it hase more than 1,37,000 Libraries which makes it more reliable, a compact and  a portable language"
      ],
      "metadata": {
        "id": "DYqN7RyFdyAp"
      }
    },
    {
      "cell_type": "markdown",
      "source": [
        "2. What is an interpreter in Python?\n",
        "\n",
        "  - A Python Interpreter executes code line by line.So, if there is a bug in a program then programmer doesn't had to wait for entire code executing because intrepreter stops execution as soon as it receives an error. Moreover, programmer does't had to find that in which line there is error like in compiler it had to."
      ],
      "metadata": {
        "id": "gNeiDTIae1K7"
      }
    },
    {
      "cell_type": "markdown",
      "source": [
        "3. What are pre-defined keywords in Python?\n",
        "  - Pre-defined keywords are set of words that are predefined and holds a special meaning and has a special purpose.\n",
        "\n",
        "  - We can access all keywords using statement\n",
        "   help('keywords')\n",
        "   - Example of pre-defined keywords are if, print, elif, range, try etc.."
      ],
      "metadata": {
        "id": "fkeXqS7Bgec_"
      }
    },
    {
      "cell_type": "markdown",
      "source": [
        "4. Can keywords be used as variable names?\n",
        "  \n",
        "  - No keyword can not be used as a variable name because python will understand it as variable once used ut it will not perform its actual duty alloted to that particular keyword once you have assing a keyword as variable then you have to restart the kernel to repreform the duty of that keyword.\n",
        "  Eg:\n",
        "\n",
        "  - print=\"Hello\",\n",
        "  Then the print(\"Hello\") will not executed and will throw error like \"'str' object is not callable\" beacuse once it is declared as variable."
      ],
      "metadata": {
        "id": "2ySlOiDbhrlJ"
      }
    },
    {
      "cell_type": "markdown",
      "source": [
        "5. What is mutability in Python?\n",
        "\n",
        "  - Mutability in python means the data structure once declared is changable or modifiable.\n",
        "  - For example List, Set, Dictonary are modifiable data types while string, tuple, frozen sets etc. are unchangable data types once you declared the value is fix.\n",
        "    "
      ],
      "metadata": {
        "id": "rdPg9qLOirU4"
      }
    },
    {
      "cell_type": "markdown",
      "source": [
        "6. Why are lists mutable, but tuples are immutable?\n",
        "  - List are mutable because its content can be modified once created while we can not do so in tuple it is unchangeble once it is created."
      ],
      "metadata": {
        "id": "4jJI9Fw7eaI6"
      }
    },
    {
      "cell_type": "markdown",
      "source": [
        "7. What is the difference between “==” and “is” operators in Python?\n",
        "  - \"==\" is comaprison operator while \"is\" is identity operator.\n",
        "  - For example: a=10, b=10\n",
        "                a == b is true as it compares the value of both the variables\n",
        "                while\n",
        "                a is b will true if the memory loctaion of both the variables is same\n",
        "  - That means cmparison operator compares value of the variable while the identiy operator not only comapres the value but also see the memory location if both refer to same memory loaction then it is true.\n"
      ],
      "metadata": {
        "id": "iFqpC7kqe8kR"
      }
    },
    {
      "cell_type": "markdown",
      "source": [
        "8. What are logical operators in Python?\n",
        "  - And, or and not are logical operators in python.\n",
        "  - If the both the values are true then and operator's value is true.\n",
        "  - If any one of the value is true the or operator's value is true\n",
        "  - Not is used for negation of the result.\n",
        "  - Examples:\n",
        "              a=10, b=15\n",
        "              if a>5 and b>5:\n",
        "                  print(\"True\")\n",
        "              - if both the values are satisfied then true will be printed\n",
        "              \n",
        "              if a<5 or b>5:\n",
        "                  print(\"True\")\n",
        "              - if one of the values is satisfied then true will be printed\n",
        "\n",
        "              - print(not(a>5))\n",
        "                Answer will be false as it is negation\n",
        "              \n",
        "\n"
      ],
      "metadata": {
        "id": "cwsEoq9sgRtn"
      }
    },
    {
      "cell_type": "markdown",
      "source": [
        "9. What is type casting in Python?\n",
        "  - Type casting in python means to convert the variables datatype from one to other implicitely or explicitely.It is also refered as type conversion.\n",
        "  - Python provides buil-in functions for type casting like int(), str(), float () etc..\n",
        "  - It is often necassary for arithmitic operation, data manupulation etc.."
      ],
      "metadata": {
        "id": "KaHCd3nGla1E"
      }
    },
    {
      "cell_type": "markdown",
      "source": [
        "10. What is the difference between implicit and explicit type casting?\n",
        "  - Implicit type casting means python automatically understands the data type of the value assign to variable without using the pre defined functions\n",
        "  - While explicit type casting is converting explicitely from one data type to another using pre defined functions like int(), str(), float() etc..\n",
        "\n",
        "  example:\n",
        "          a=5\n",
        "          type(a) = int python will understand it as int\n",
        "          while\n",
        "          a=int(input(\"number\"))\n",
        "          type(a) = int , predefined function is used to convert str to int."
      ],
      "metadata": {
        "id": "BoD3UkT9mMCx"
      }
    },
    {
      "cell_type": "markdown",
      "source": [
        "11. What is the purpose of conditional statements in Python?\n",
        "  - Condition statements in python are used for the smooth execution of the code based on the evaluation of one or more conditions.\n",
        "  - Python supports confitional statements like if, elif and else."
      ],
      "metadata": {
        "id": "Ya36A5QonVk7"
      }
    },
    {
      "cell_type": "markdown",
      "source": [
        "12. How does the elif statement work?\n",
        "  - Elif statement works when the code has to fulfil more than 2 conditions.\n",
        "  - for example:\n",
        "                weather=input(\"Enter the weather\")\n",
        "                if(weather==\"Sunny\"):\n",
        "                    Print(\"You will play cricket\")\n",
        "                elif(weaher==\"Rainy\"):\n",
        "                    Print(\"You will wash your terrace\")\n",
        "                else:\n",
        "                    Print(\"You will watch TV\")"
      ],
      "metadata": {
        "id": "q2pi1KqXn3tE"
      }
    },
    {
      "cell_type": "markdown",
      "source": [
        "13. What is the difference between for and while loops?\n",
        "  - \"For\" loops are used for iterating the sequence of the elements while \"while\" loops are used for iterating the code until the specified condition is false.\n",
        "  - Syntax:\n",
        "            For var in iterable:\n",
        "                --Set of statements\n",
        "\n",
        "            While condition:\n",
        "                --Set of statements"
      ],
      "metadata": {
        "id": "qJDGPyXxorbZ"
      }
    },
    {
      "cell_type": "markdown",
      "source": [
        "14.Describe a scenario where a while loop is more suitable than a for loop.\n",
        "  - If the is a scenario when we have to write a code related the capacity of the bag is give that it can contain only 100 balls and you have to insert the ball according unitl the bag is full if the bag is full print no balls can be acculumated.\n",
        "  - code:\n",
        "          balls=0\n",
        "          while(balls<=100):\n",
        "              print(\"You can add balls\")\n",
        "              balls+=1\n",
        "          else:\n",
        "              print(\"Capacity of bag to fill balls is over.\")"
      ],
      "metadata": {
        "id": "KFY8e5EYp76I"
      }
    },
    {
      "cell_type": "markdown",
      "source": [
        "# **Python Basics Practical Questions**"
      ],
      "metadata": {
        "id": "6GuSpWs7sQFy"
      }
    },
    {
      "cell_type": "markdown",
      "source": [
        "1. Write a Python program to print \"Hello, World!"
      ],
      "metadata": {
        "id": "7R8TdCIQsY58"
      }
    },
    {
      "cell_type": "code",
      "source": [
        "print(\"Hello, World!\")"
      ],
      "metadata": {
        "colab": {
          "base_uri": "https://localhost:8080/"
        },
        "id": "AA3wvFZpsV4x",
        "outputId": "ce79ba65-d504-4a58-f685-2f3449892ba0"
      },
      "execution_count": null,
      "outputs": [
        {
          "output_type": "stream",
          "name": "stdout",
          "text": [
            "Hello, World!\n"
          ]
        }
      ]
    },
    {
      "cell_type": "markdown",
      "source": [
        "2. Write a Python program that displays your name and age."
      ],
      "metadata": {
        "id": "XaaCVrRIsi6i"
      }
    },
    {
      "cell_type": "code",
      "source": [
        "name = input(\"Enter your name\")\n",
        "age = int(input(\"Enter your age\"))\n",
        "print( name, age)"
      ],
      "metadata": {
        "colab": {
          "base_uri": "https://localhost:8080/"
        },
        "id": "hHVByZk6siEH",
        "outputId": "1af28b17-f159-44c9-b03a-b891a4668f70"
      },
      "execution_count": null,
      "outputs": [
        {
          "output_type": "stream",
          "name": "stdout",
          "text": [
            "Enter your name PW\n",
            "Enter your age 10\n",
            " PW 10\n"
          ]
        }
      ]
    },
    {
      "cell_type": "markdown",
      "source": [
        "3. Write code to print all the pre-defined keywords in Python using the keyword library."
      ],
      "metadata": {
        "id": "ziIUnEfDtQic"
      }
    },
    {
      "cell_type": "code",
      "source": [
        "help('keywords')"
      ],
      "metadata": {
        "colab": {
          "base_uri": "https://localhost:8080/"
        },
        "id": "O3SHVOf0s_rL",
        "outputId": "1453f0ff-54fe-40f1-d4c6-6e6fcd2c8b83"
      },
      "execution_count": null,
      "outputs": [
        {
          "output_type": "stream",
          "name": "stdout",
          "text": [
            "\n",
            "Here is a list of the Python keywords.  Enter any keyword to get more help.\n",
            "\n",
            "False               class               from                or\n",
            "None                continue            global              pass\n",
            "True                def                 if                  raise\n",
            "and                 del                 import              return\n",
            "as                  elif                in                  try\n",
            "assert              else                is                  while\n",
            "async               except              lambda              with\n",
            "await               finally             nonlocal            yield\n",
            "break               for                 not                 \n",
            "\n"
          ]
        }
      ]
    },
    {
      "cell_type": "markdown",
      "source": [
        "4. Write a program that checks if a given word is a Python keyword."
      ],
      "metadata": {
        "id": "EkNXo6rftVur"
      }
    },
    {
      "cell_type": "code",
      "source": [
        "import keyword\n",
        "if(keyword.iskeyword(input(\"Enter any keyword you want to check pre-defined or not\"))):\n",
        "  print(\"Word given is python keyword\")\n",
        "else:\n",
        "  print(\"Word given isn't python keyword\")"
      ],
      "metadata": {
        "colab": {
          "base_uri": "https://localhost:8080/"
        },
        "id": "-GMjWQmetUgk",
        "outputId": "1adbda02-843c-4038-ccc6-accace76fdca"
      },
      "execution_count": null,
      "outputs": [
        {
          "output_type": "stream",
          "name": "stdout",
          "text": [
            "True\n",
            "Enter any keyword you want to check pre-defined or notfor\n",
            "Word given is python keyword\n"
          ]
        }
      ]
    },
    {
      "cell_type": "markdown",
      "source": [
        "5. Create a list and tuple in Python, and demonstrate how attempting to change an element works differently\n",
        "for each."
      ],
      "metadata": {
        "id": "xxMHI7QdvUCD"
      }
    },
    {
      "cell_type": "code",
      "source": [
        "list_cont=[1,2.3,\"Raju\",6+7j]\n",
        "tuple_cont=(1,2.3,\"Raju\",6+7j)\n",
        "\n",
        "#we can change the elements of the list if we can but we can not change tuple's elements as tuple is immutable\n",
        "\n",
        "list_cont[3]=\"Shyam\"\n",
        "print(list_cont)\n",
        "tuple_cont[3]=\"Shyam\"\n",
        "print(tuple_cont)\n",
        "\n",
        "#So, list got printed while updating tuple the error of no support assignment given"
      ],
      "metadata": {
        "colab": {
          "base_uri": "https://localhost:8080/",
          "height": 228
        },
        "id": "0rfooZVBQPDu",
        "outputId": "c32d68fe-6de7-493f-e32d-c92341d5d803"
      },
      "execution_count": null,
      "outputs": [
        {
          "output_type": "stream",
          "name": "stdout",
          "text": [
            "[1, 2.3, 'Raju', 'Shyam']\n"
          ]
        },
        {
          "output_type": "error",
          "ename": "TypeError",
          "evalue": "'tuple' object does not support item assignment",
          "traceback": [
            "\u001b[0;31m---------------------------------------------------------------------------\u001b[0m",
            "\u001b[0;31mTypeError\u001b[0m                                 Traceback (most recent call last)",
            "\u001b[0;32m<ipython-input-13-ac1457d89d0e>\u001b[0m in \u001b[0;36m<cell line: 8>\u001b[0;34m()\u001b[0m\n\u001b[1;32m      6\u001b[0m \u001b[0mlist_cont\u001b[0m\u001b[0;34m[\u001b[0m\u001b[0;36m3\u001b[0m\u001b[0;34m]\u001b[0m\u001b[0;34m=\u001b[0m\u001b[0;34m\"Shyam\"\u001b[0m\u001b[0;34m\u001b[0m\u001b[0;34m\u001b[0m\u001b[0m\n\u001b[1;32m      7\u001b[0m \u001b[0mprint\u001b[0m\u001b[0;34m(\u001b[0m\u001b[0mlist_cont\u001b[0m\u001b[0;34m)\u001b[0m\u001b[0;34m\u001b[0m\u001b[0;34m\u001b[0m\u001b[0m\n\u001b[0;32m----> 8\u001b[0;31m \u001b[0mtuple_cont\u001b[0m\u001b[0;34m[\u001b[0m\u001b[0;36m3\u001b[0m\u001b[0;34m]\u001b[0m\u001b[0;34m=\u001b[0m\u001b[0;34m\"Shyam\"\u001b[0m\u001b[0;34m\u001b[0m\u001b[0;34m\u001b[0m\u001b[0m\n\u001b[0m\u001b[1;32m      9\u001b[0m \u001b[0mprint\u001b[0m\u001b[0;34m(\u001b[0m\u001b[0mtuple_cont\u001b[0m\u001b[0;34m)\u001b[0m\u001b[0;34m\u001b[0m\u001b[0;34m\u001b[0m\u001b[0m\n\u001b[1;32m     10\u001b[0m \u001b[0;34m\u001b[0m\u001b[0m\n",
            "\u001b[0;31mTypeError\u001b[0m: 'tuple' object does not support item assignment"
          ]
        }
      ]
    },
    {
      "cell_type": "markdown",
      "source": [
        "6. Write a function to demonstrate the behavior of mutable and immutable arguments."
      ],
      "metadata": {
        "id": "_eOPtw3aZTRu"
      }
    },
    {
      "cell_type": "code",
      "source": [
        "#Behaviour of function with mutable arguments\n",
        "list1=[]\n",
        "\n",
        "def mutable(l):\n",
        "  l[0]=\"DataScience\"\n",
        "  print(\"After calling the function changing the list data the data will be updated as the list is mutable: \",l,end=\"\\n\\n\")\n",
        "\n",
        "n=int(input(\"Enter the length of the list you want: \"))\n",
        "\n",
        "#Taking list input\n",
        "for i in range(n):\n",
        "    a=input(\"Enter any value that you want to aaculumate in the list: \")\n",
        "    list1.append(a)\n",
        "\n",
        "print(\"Before calling the original list entered by user: \",list1, end=\"\\n\\n\")\n",
        "mutable(list1)"
      ],
      "metadata": {
        "id": "psJN1w5eUT9V",
        "colab": {
          "base_uri": "https://localhost:8080/"
        },
        "outputId": "62e987cf-102b-4b9d-b642-ceb588abf229"
      },
      "execution_count": 5,
      "outputs": [
        {
          "output_type": "stream",
          "name": "stdout",
          "text": [
            "Enter the length of the list you want: 4\n",
            "Enter any value that you want to aaculumate in the list: PWSkills\n",
            "Enter any value that you want to aaculumate in the list: with\n",
            "Enter any value that you want to aaculumate in the list: Generative\n",
            "Enter any value that you want to aaculumate in the list: AI\n",
            "Before calling the original list entered by user:  ['PWSkills', 'with', 'Generative', 'AI']\n",
            "\n",
            "After calling the function changing the list data the data will be updated as the list is mutable:  ['DataScience', 'with', 'Generative', 'AI']\n",
            "\n"
          ]
        }
      ]
    },
    {
      "cell_type": "markdown",
      "source": [
        "7. Write a function to demonstrate the behavior of mutable and immutable arguments."
      ],
      "metadata": {
        "id": "gaGm5C5NZXg1"
      }
    },
    {
      "cell_type": "code",
      "source": [
        "#Behaviour of function with immutable arguments\n",
        "n=int(input(\"Enter upto what lenght you want tuple: \"))\n",
        "list2=[]\n",
        "\n",
        "#function defination\n",
        "def immutable(t):\n",
        "  t[0]=\"PWSkills\" #it is not updatable\n",
        "  print(t)\n",
        "\n",
        "#Taking list as input and converting it to tuple\n",
        "for i in range(n):\n",
        "  a=input(\"Enter any value that you want to aaculumate in the tuple: \")\n",
        "  list2.append(a)\n",
        "\n",
        "tuple1=tuple(list2)\n",
        "print(\"Tuple before change and calling to function: \", tuple1)\n",
        "\n",
        "\"\"\"The error will be thrown as when we call the function the execution happens to\n",
        " change the items in tuple but will not happen as tuple is immutable and\n",
        " error will come \"tuple object does not support item assignment\" \"\"\"\n",
        "immutable(tuple1)"
      ],
      "metadata": {
        "id": "gzlfuzGaZfGG",
        "colab": {
          "base_uri": "https://localhost:8080/",
          "height": 384
        },
        "outputId": "c209a42a-7bd0-4941-bbea-a4c2b2deabce"
      },
      "execution_count": 12,
      "outputs": [
        {
          "output_type": "stream",
          "name": "stdout",
          "text": [
            "Enter upto what lenght you want tuple: 3\n",
            "Enter any value that you want to aaculumate in the tuple: Course\n",
            "Enter any value that you want to aaculumate in the tuple: for\n",
            "Enter any value that you want to aaculumate in the tuple: Data Science\n",
            "Tuple before change and calling to function:  ('Course', 'for', 'Data Science')\n"
          ]
        },
        {
          "output_type": "error",
          "ename": "TypeError",
          "evalue": "'tuple' object does not support item assignment",
          "traceback": [
            "\u001b[0;31m---------------------------------------------------------------------------\u001b[0m",
            "\u001b[0;31mTypeError\u001b[0m                                 Traceback (most recent call last)",
            "\u001b[0;32m<ipython-input-12-9ca5a2288077>\u001b[0m in \u001b[0;36m<cell line: 21>\u001b[0;34m()\u001b[0m\n\u001b[1;32m     19\u001b[0m  \u001b[0mchange\u001b[0m \u001b[0mthe\u001b[0m \u001b[0mitems\u001b[0m \u001b[0;32min\u001b[0m \u001b[0mtuple\u001b[0m \u001b[0mbut\u001b[0m \u001b[0mwill\u001b[0m \u001b[0;32mnot\u001b[0m \u001b[0mhappen\u001b[0m \u001b[0;32mas\u001b[0m \u001b[0mtuple\u001b[0m \u001b[0;32mis\u001b[0m \u001b[0mimmutable\u001b[0m \u001b[0;32mand\u001b[0m\u001b[0;34m\u001b[0m\u001b[0;34m\u001b[0m\u001b[0m\n\u001b[1;32m     20\u001b[0m  error will come \"tuple object does not support item assignment\" \"\"\"\n\u001b[0;32m---> 21\u001b[0;31m \u001b[0mimmutable\u001b[0m\u001b[0;34m(\u001b[0m\u001b[0mtuple1\u001b[0m\u001b[0;34m)\u001b[0m\u001b[0;34m\u001b[0m\u001b[0;34m\u001b[0m\u001b[0m\n\u001b[0m",
            "\u001b[0;32m<ipython-input-12-9ca5a2288077>\u001b[0m in \u001b[0;36mimmutable\u001b[0;34m(t)\u001b[0m\n\u001b[1;32m      5\u001b[0m \u001b[0;31m#function defination\u001b[0m\u001b[0;34m\u001b[0m\u001b[0;34m\u001b[0m\u001b[0m\n\u001b[1;32m      6\u001b[0m \u001b[0;32mdef\u001b[0m \u001b[0mimmutable\u001b[0m\u001b[0;34m(\u001b[0m\u001b[0mt\u001b[0m\u001b[0;34m)\u001b[0m\u001b[0;34m:\u001b[0m\u001b[0;34m\u001b[0m\u001b[0;34m\u001b[0m\u001b[0m\n\u001b[0;32m----> 7\u001b[0;31m   \u001b[0mt\u001b[0m\u001b[0;34m[\u001b[0m\u001b[0;36m0\u001b[0m\u001b[0;34m]\u001b[0m\u001b[0;34m=\u001b[0m\u001b[0;34m\"PWSkills\"\u001b[0m\u001b[0;34m\u001b[0m\u001b[0;34m\u001b[0m\u001b[0m\n\u001b[0m\u001b[1;32m      8\u001b[0m   \u001b[0mprint\u001b[0m\u001b[0;34m(\u001b[0m\u001b[0mt\u001b[0m\u001b[0;34m)\u001b[0m\u001b[0;34m\u001b[0m\u001b[0;34m\u001b[0m\u001b[0m\n\u001b[1;32m      9\u001b[0m \u001b[0;34m\u001b[0m\u001b[0m\n",
            "\u001b[0;31mTypeError\u001b[0m: 'tuple' object does not support item assignment"
          ]
        }
      ]
    },
    {
      "cell_type": "markdown",
      "source": [
        "8. Write a program to demonstrate the use of logical operators."
      ],
      "metadata": {
        "id": "QUoJNmpeZfg1"
      }
    },
    {
      "cell_type": "code",
      "source": [
        "#logical operators are used to fulfil the condition given in the conditional statements.\n",
        "a=int(input(\"Enter any number 1: \"))\n",
        "b=int(input(\"Enter any number 2: \"))\n",
        "if a>5 and b>5 :\n",
        "  print(\"congratulations both the numbers are greater than 5\")\n",
        "elif (a<5 or b>5):\n",
        "  print(\"Second number is greater than 5\")\n",
        "elif (a>5 or b<5):\n",
        "  print(\"First number is greater than 5\")\n",
        "else:\n",
        "  print(\"Invalid Input\")"
      ],
      "metadata": {
        "colab": {
          "base_uri": "https://localhost:8080/"
        },
        "id": "Lwqqt4zlZ2P9",
        "outputId": "47ee6ef4-b76f-4c36-f360-f1e925b09697"
      },
      "execution_count": null,
      "outputs": [
        {
          "output_type": "stream",
          "name": "stdout",
          "text": [
            "Enter any number 1: 6\n",
            "Enter any number 2: 7\n",
            "congratulations both the numbers are greater than 5\n"
          ]
        }
      ]
    },
    {
      "cell_type": "markdown",
      "source": [
        "9. Write a Python program to convert user input from string to integer, float, and boolean types."
      ],
      "metadata": {
        "id": "mqw6WzTsbvl1"
      }
    },
    {
      "cell_type": "code",
      "source": [
        "i = input(\"Enter any number: \")\n",
        "f= input(\"Enter any decimal number: \")\n",
        "b= input(\"Enter either true or false or 1 or 0: \")\n",
        "\n",
        "print(\"Before type conversion Integer\",type(i),i,end=\"\\n\\n\")\n",
        "print(\"After type conversion\",type(int(i)),i,end=\"\\n\\n\")\n",
        "print(\"Before type conversion Float\",type(f),f,end=\"\\n\\n\")\n",
        "print(\"After type conversion\",type(float(f)),f,end=\"\\n\\n\")\n",
        "print(\"Before type conversion Boolean\",type(b),b,end=\"\\n\\n\")\n",
        "print(\"After type conversion\",type(bool(b)),b,end=\"\\n\\n\")"
      ],
      "metadata": {
        "colab": {
          "base_uri": "https://localhost:8080/"
        },
        "id": "w8Flck-tbDst",
        "outputId": "3b3c0e18-a39a-4aea-c0a8-eea9e9dd07ea"
      },
      "execution_count": null,
      "outputs": [
        {
          "output_type": "stream",
          "name": "stdout",
          "text": [
            "Enter any number: 23\n",
            "Enter any decimal number: 23.56\n",
            "Enter either true or false or 1 or 0: 0\n",
            "Before type conversion Integer <class 'str'> 23\n",
            "\n",
            "After type conversion <class 'int'> 23\n",
            "\n",
            "Before type conversion Float <class 'str'> 23.56\n",
            "\n",
            "After type conversion <class 'float'> 23.56\n",
            "\n",
            "Before type conversion Boolean <class 'str'> 0\n",
            "\n",
            "After type conversion <class 'bool'> 0\n",
            "\n"
          ]
        }
      ]
    },
    {
      "cell_type": "markdown",
      "source": [
        "10. Write code to demonstrate type casting with list elements."
      ],
      "metadata": {
        "id": "RCWLQFmfc1f9"
      }
    },
    {
      "cell_type": "code",
      "source": [
        "n=int(input(\"Enter the number of element you want in the list: \"))\n",
        "list_cont=[]\n",
        "for i in range (0,n):\n",
        "  ele=input(\"enter the element of the list: \")\n",
        "  str(list_cont.append(ele))\n",
        "  print(type(list_cont[i]))\n",
        "print(list_cont)"
      ],
      "metadata": {
        "id": "DB9vHlK0cmsd",
        "colab": {
          "base_uri": "https://localhost:8080/"
        },
        "outputId": "f4a22f30-ebef-4122-b125-12644ade3798"
      },
      "execution_count": null,
      "outputs": [
        {
          "output_type": "stream",
          "name": "stdout",
          "text": [
            "Enter the number of element you want in the list: 5\n",
            "enter the element of the list: PW\n",
            "<class 'str'>\n",
            "enter the element of the list: Skills\n",
            "<class 'str'>\n",
            "enter the element of the list: 23\n",
            "<class 'str'>\n",
            "enter the element of the list: 23.23\n",
            "enter the element of the list: 22\n",
            "<class 'str'>\n",
            "<class 'str'>\n",
            "['PW', 'Skills', '23', '23.23', '22']\n"
          ]
        }
      ]
    },
    {
      "cell_type": "markdown",
      "source": [
        "11. Write a program that checks if a number is positive, negative, or zero."
      ],
      "metadata": {
        "id": "lz1gLE3Wy7nG"
      }
    },
    {
      "cell_type": "code",
      "source": [
        "a= float(input(\"Enter the number which you want to check either +ve, -ve or 0\"))\n",
        "\n",
        "if a>0:\n",
        "  print(\"The number you entered is +ve \",a)\n",
        "elif a<0:\n",
        "  print(\"The number you entered is -ve \",a)\n",
        "else:\n",
        "  print(\"The number you entered is zero \",a)"
      ],
      "metadata": {
        "colab": {
          "base_uri": "https://localhost:8080/"
        },
        "id": "YPTJve9Ey-NG",
        "outputId": "865670cf-c50a-48ad-8ce7-94cc28750c65"
      },
      "execution_count": null,
      "outputs": [
        {
          "output_type": "stream",
          "name": "stdout",
          "text": [
            "Enter the number which you want to check either +ve, -ve or 0-56.56\n",
            "The number you entered is -ve  -56.56\n"
          ]
        }
      ]
    },
    {
      "cell_type": "markdown",
      "source": [
        "12. Write a for loop to print numbers from 1 to 100."
      ],
      "metadata": {
        "id": "sLBPphu4zswV"
      }
    },
    {
      "cell_type": "code",
      "source": [
        "list_num=[]\n",
        "for i in range (0,101):\n",
        "  list_num.append(i)\n",
        "print(list_num)"
      ],
      "metadata": {
        "colab": {
          "base_uri": "https://localhost:8080/"
        },
        "id": "-XcidQpZzjv8",
        "outputId": "34d291f9-1806-4bde-b8ca-1b561ddd2b50"
      },
      "execution_count": null,
      "outputs": [
        {
          "output_type": "stream",
          "name": "stdout",
          "text": [
            "[0, 1, 2, 3, 4, 5, 6, 7, 8, 9, 10, 11, 12, 13, 14, 15, 16, 17, 18, 19, 20, 21, 22, 23, 24, 25, 26, 27, 28, 29, 30, 31, 32, 33, 34, 35, 36, 37, 38, 39, 40, 41, 42, 43, 44, 45, 46, 47, 48, 49, 50, 51, 52, 53, 54, 55, 56, 57, 58, 59, 60, 61, 62, 63, 64, 65, 66, 67, 68, 69, 70, 71, 72, 73, 74, 75, 76, 77, 78, 79, 80, 81, 82, 83, 84, 85, 86, 87, 88, 89, 90, 91, 92, 93, 94, 95, 96, 97, 98, 99, 100]\n"
          ]
        }
      ]
    },
    {
      "cell_type": "markdown",
      "source": [
        "13. Write a Python program to find the sum of all even numbers between 1 and 500."
      ],
      "metadata": {
        "id": "pjeSvk-C0DDN"
      }
    },
    {
      "cell_type": "code",
      "source": [
        "sum=0\n",
        "for i in range(0,51):\n",
        "  if(i%2==0):\n",
        "    sum=sum+i\n",
        "  else:\n",
        "    continue\n",
        "print(sum)"
      ],
      "metadata": {
        "colab": {
          "base_uri": "https://localhost:8080/"
        },
        "id": "PsWpcqN-0Bcs",
        "outputId": "63380f79-ca04-41fc-f876-d37d8064e315"
      },
      "execution_count": null,
      "outputs": [
        {
          "output_type": "stream",
          "name": "stdout",
          "text": [
            "650\n"
          ]
        }
      ]
    },
    {
      "cell_type": "markdown",
      "source": [
        "14. Write a program to reverse a string using a while loop."
      ],
      "metadata": {
        "id": "5OLEn9is0f89"
      }
    },
    {
      "cell_type": "code",
      "source": [
        "s=str(input(\"1Enter the string you want to reverse \"))\n",
        "n=len(s)\n",
        "i=n-1\n",
        "while i>=0:\n",
        "  print(s[i], end=\"\")\n",
        "  i=i-1"
      ],
      "metadata": {
        "id": "-Hb8hFpa0cZ0",
        "colab": {
          "base_uri": "https://localhost:8080/"
        },
        "outputId": "23a9ef3b-98a2-4d29-ef91-1eda2f3d9582"
      },
      "execution_count": null,
      "outputs": [
        {
          "output_type": "stream",
          "name": "stdout",
          "text": [
            "1Enter the string you want to reverse Physicswala skills\n",
            "slliks alawscisyhP"
          ]
        }
      ]
    },
    {
      "cell_type": "markdown",
      "source": [
        "15. Write a Python program to calculate the factorial of a number provided by the user using a while loop."
      ],
      "metadata": {
        "id": "JtlW-70k0jSV"
      }
    },
    {
      "cell_type": "code",
      "source": [
        "a=int(input(\"Enter the number you want to find factorial of: \"))\n",
        "i=1\n",
        "mul=1\n",
        "while i<=a:\n",
        "  mul=mul*i\n",
        "  i+=1\n",
        "print(mul)"
      ],
      "metadata": {
        "id": "voGeWIgp0mnN",
        "colab": {
          "base_uri": "https://localhost:8080/"
        },
        "outputId": "7c3a411a-0d8a-4ae8-b4ce-2bc1b76a9964"
      },
      "execution_count": null,
      "outputs": [
        {
          "output_type": "stream",
          "name": "stdout",
          "text": [
            "Enter the number you want to find factorial of: 5\n",
            "120\n"
          ]
        }
      ]
    }
  ]
}